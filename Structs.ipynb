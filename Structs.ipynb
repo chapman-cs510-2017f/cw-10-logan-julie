{
 "cells": [
  {
   "cell_type": "markdown",
   "metadata": {
    "collapsed": false
   },
   "source": [
    "### 1. What does print_structs do? ###"
   ]
  },
  {
   "cell_type": "markdown",
   "metadata": {
    "collapsed": false
   },
   "source": [
    "The script `print_structs.c` accesses methods from `structs.c`, which are designed to modify and access elements from different-sized structs containing long doubles. The header specifies the data structure of the structs and aliases for slimming the code. Specifically, structs containing zeroes are initially defined. The first element of the length $3$ structs is stored into a new struct of the same type but not modified for the original. The length-two struct is modified and does not need to be assigned to a new struct object. This is accomplished using pointer arguments rather than struct arguments."
   ]
  },
  {
   "cell_type": "markdown",
   "metadata": {
    "collapsed": false
   },
   "source": [
    "### 2. Pass-by-value vs pass-by-reference ###"
   ]
  },
  {
   "cell_type": "markdown",
   "metadata": {
    "collapsed": false
   },
   "source": [
    "By \"pass\", we mean passing an object to the body of a function as an argument. When we pass by value, we are handing the function the actual value of something for use. When we pass by reference we are giving the function a little more: the memory address of the stored data. This not only allows us to access the values stored, but has the added benefit of making modifications to the data that carry over outside the function by editing values at the memory location directly. This is demonstrated in `print_structs` using the `modifyVEC3` and `setVEC2` functions."
   ]
  }
 ],
 "metadata": {
  "kernelspec": {
   "display_name": "Bash (Linux)",
   "language": "bash",
   "name": "bash"
  },
  "language_info": {
   "codemirror_mode": "shell",
   "file_extension": ".sh",
   "mimetype": "text/x-sh",
   "name": "bash"
  }
 },
 "nbformat": 4,
 "nbformat_minor": 0
}