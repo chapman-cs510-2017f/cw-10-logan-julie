{
 "cells": [
  {
   "cell_type": "markdown",
   "metadata": {
    "collapsed": false
   },
   "source": [
    "Name: Julie Gardner-Hoag, Logan Gantner <br>\n",
    "Student ID: 2299636, 2307470 <br>\n",
    "Email: gardnerh@chapman.edu, gantner@chapman.edu <br>\n",
    "Course: CS510 Fall 2017 <br>\n",
    "Assignment: Classwork 10 <br>"
   ]
  },
  {
   "cell_type": "markdown",
   "metadata": {
    "collapsed": false
   },
   "source": [
    "### 1. What does Arrays do? ###"
   ]
  },
  {
   "cell_type": "markdown",
   "metadata": {
    "collapsed": false
   },
   "source": [
    "The purpose of `arrays.c` is to demostrate several methods for storing arrays of data in C. The first method explicitly defines an empty array of a specific size and populates the array afterward. The second method manually allocates a chunk of memory equipped with a pointer and iterates the pointer through the memory, stating at each step the value that should be stored at the current location. The third method also uses a pointer but stores the character array at declaration, allowing C to automatically determine the details of the storage. This is accessed in two different ways: by utilizing the syntactic sugar `arr[i]` common with arrays, and by accessing the value stored as a character pointer is incrememnted. We get the following result:"
   ]
  },
  {
   "cell_type": "code",
   "execution_count": 2,
   "metadata": {
    "collapsed": false
   },
   "outputs": [
    {
     "name": "stdout",
     "output_type": "stream",
     "text": [
      "array[0] : 0\t*(memblock + 0) : 0\tfoo[0] : F\t*(foo + 0) : F\n"
     ]
    },
    {
     "name": "stdout",
     "output_type": "stream",
     "text": [
      "array[1] : 1\t*(memblock + 1) : 1\tfoo[1] : o\t*(foo + 1) : o\n"
     ]
    },
    {
     "name": "stdout",
     "output_type": "stream",
     "text": [
      "array[2] : 2\t*(memblock + 2) : 2\tfoo[2] : o\t*(foo + 2) : o\n"
     ]
    },
    {
     "name": "stdout",
     "output_type": "stream",
     "text": [
      "array[3] : 3\t*(memblock + 3) : 3\tfoo[3] :  \t*(foo + 3) :  \n"
     ]
    },
    {
     "name": "stdout",
     "output_type": "stream",
     "text": [
      "array[4] : 4\t*(memblock + 4) : 4\tfoo[4] : b\t*(foo + 4) : b\n"
     ]
    },
    {
     "name": "stdout",
     "output_type": "stream",
     "text": [
      "array[5] : 5\t*(memblock + 5) : 5\tfoo[5] : a\t*(foo + 5) : a\n"
     ]
    },
    {
     "name": "stdout",
     "output_type": "stream",
     "text": [
      "array[6] : 6\t*(memblock + 6) : 6\tfoo[6] : r\t*(foo + 6) : r\n"
     ]
    },
    {
     "name": "stdout",
     "output_type": "stream",
     "text": [
      "array[7] : 7\t*(memblock + 7) : 7\tfoo[7] :  \t*(foo + 7) :  \n"
     ]
    },
    {
     "name": "stdout",
     "output_type": "stream",
     "text": [
      "array[8] : 8\t*(memblock + 8) : 8\tfoo[8] : .\t*(foo + 8) : .\n"
     ]
    },
    {
     "name": "stdout",
     "output_type": "stream",
     "text": [
      "array[9] : 9\t*(memblock + 9) : 9\tfoo[9] : \u0000\t*(foo + 9) : \u0000\n"
     ]
    },
    {
     "name": "stdout",
     "output_type": "stream",
     "text": [
      "array[10] : 626888448\t*(memblock + 10) : 1041\tfoo[10] : m\t*(foo + 10) : m\n"
     ]
    },
    {
     "name": "stdout",
     "output_type": "stream",
     "text": [
      "array[11] : 386622056\t*(memblock + 11) : 0\tfoo[11] : a\t*(foo + 11) : a\n"
     ]
    },
    {
     "name": "stdout",
     "output_type": "stream",
     "text": [
      "array[12] : 0\t*(memblock + 12) : 1634890337\tfoo[12] : l\t*(foo + 12) : l\n"
     ]
    }
   ],
   "source": [
    "./src/arrays/arrays"
   ]
  },
  {
   "cell_type": "markdown",
   "metadata": {
    "collapsed": false
   },
   "source": [
    "The first $10$ rows make complete sense. We are accessing memory that we explicitly stored, and using array notation vs. explicitly iterating pointers gives us the same result. Things get weird when we start trying to allocate memory beyond where it was defined by the user. Unlike with most languages, C does not stop you from contuing to walk through memory that was not set aside for reading and writing. Thus, as we read past our defined arrays, C attempts to convert bytes of memory into whatever type we are asking it for, regardless of whether that was its original intention. Thus, our int array starts spitting out seemingly random integers. Because we are storing `array` and `memblock` as seperate actions, we get different valus as we pour over each of these. However, the string array was only stored once and then accessed in different ways, resulting in the same output for each. It appears that these bytes were actually intended to be characters."
   ]
  },
  {
   "cell_type": "markdown",
   "metadata": {
    "collapsed": false
   },
   "source": [
    "### 5. What do Malloc and Free do? ###"
   ]
  },
  {
   "cell_type": "markdown",
   "metadata": {
    "collapsed": false
   },
   "source": [
    "The functions `malloc` and `free` perform opposite actions in C. The word \"malloc\" stands for \"memory allocation\" and manually reserves a block of memory (in numbers of bytes) for future storage. Once `malloc` is called, the memory is protected and cannot be overwritten, allowing for the possibility that the system may run out of memory. This is why `free` exists: it takes memory blocks as arguments and strips them of their protected status."
   ]
  }
 ],
 "metadata": {
  "kernelspec": {
   "display_name": "Bash (Linux)",
   "language": "bash",
   "name": "bash"
  },
  "language_info": {
   "codemirror_mode": "shell",
   "file_extension": ".sh",
   "mimetype": "text/x-sh",
   "name": "bash"
  }
 },
 "nbformat": 4,
 "nbformat_minor": 0
}